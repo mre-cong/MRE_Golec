{
 "cells": [
  {
   "cell_type": "code",
   "execution_count": 5,
   "metadata": {},
   "outputs": [],
   "source": [
    "#2024-12-11 David Marchfield. Recreating MR effect figure with the data provided, in lieu of recalculating for plotting\n",
    "import matplotlib.pyplot as plt\n",
    "import numpy as np\n",
    "import mre.initialize\n",
    "import mre.analyze\n",
    "\n",
    "def read_csv(directory):\n",
    "    \"\"\"read in the MR effect dataset\"\"\"\n",
    "    #read\n",
    "    fname = directory + 'mr_effect_modulus_v_volfrac.csv'\n",
    "    phi,zero_field_effective_modulus,zfm_uncertainty,field_effective_modulus,fem_uncertainty,mr_effect,mr_effect_uncertainty = np.loadtxt(fname,delimiter=',',skiprows=1,unpack=True)\n",
    "    # Bext_series = 0\n",
    "    # effective_modulus = 0\n",
    "    return phi,zero_field_effective_modulus,zfm_uncertainty,field_effective_modulus,fem_uncertainty,mr_effect,mr_effect_uncertainty\n",
    "\n",
    "def plot_mr_effect_figure(directory,sim_type='shearing',output_dir='/mnt/c/Users/bagaw/Desktop/dissertation_figures/'):\n",
    "    \"\"\"Given a directory containing a comma delimited file containing the effective moduli, uncertainties, and MR effect values, generate a figure showing the volume fraction dependence of the effective modulus and MR Effect.\"\"\"\n",
    "    vol_fractions,zero_field_effective_modulus,zfm_uncertainty,field_effective_modulus,fem_uncertainty,mr_effect,mr_effect_uncertainty = read_csv(directory)\n",
    "    if 'shearing' in sim_type:\n",
    "        ylabel_one = r'$G_{eff}$ (kPa)'\n",
    "        ylabel_two = r'$G_{eff,B}$ (kPa)'\n",
    "    else:\n",
    "        if 'tension' in sim_type:\n",
    "            ylabel_one = r'$E_{tension,eff}$ (kPa)'\n",
    "            ylabel_two = r'$E_{tension,eff,B}$ (kPa)'\n",
    "        elif 'compression' in sim_type:\n",
    "            ylabel_one = r'$E_{compression,eff}$ (kPa)'\n",
    "            ylabel_two = r'$E_{compression,eff,B}$ (kPa)'\n",
    "    fig, axs = plt.subplots(3,1,layout=\"constrained\")\n",
    "    default_width,default_height = fig.get_size_inches()\n",
    "    fig.set_size_inches(2*default_width,2*default_height)\n",
    "    fig.set_dpi(200)\n",
    "    savename = output_dir + f'mr_effect.png'\n",
    "    axs[2].set_xlabel('Vol. Fraction')\n",
    "    axs[0].set_ylabel(ylabel_one)\n",
    "    axs[1].set_ylabel(ylabel_two)\n",
    "    axs[2].set_ylabel('MR Effect (%)')\n",
    "    axs[0].errorbar(vol_fractions,zero_field_effective_modulus,yerr=zfm_uncertainty,marker='o')\n",
    "    axs[1].errorbar(vol_fractions,field_effective_modulus,yerr=fem_uncertainty,marker='o')\n",
    "    axs[2].errorbar(vol_fractions,mr_effect,yerr=mr_effect_uncertainty,marker='o')\n",
    "    # axs[0].set_ylim(0,10)\n",
    "    axs[1].set_ylim(0,44)\n",
    "    axs[2].set_ylim(-10,440)\n",
    "    mre.analyze.format_subfigures(axs,shared_x_axis=True,subplot_label_flag=True)\n",
    "    plt.savefig(savename)\n",
    "    plt.close()\n",
    "\n",
    "data_directory = '/mnt/c/Users/bagaw/Desktop/MRE/MR_effect/'\n",
    "plot_mr_effect_figure(data_directory,sim_type='shearing',output_dir='/mnt/c/Users/bagaw/Desktop/dissertation_figures/')"
   ]
  },
  {
   "cell_type": "code",
   "execution_count": null,
   "metadata": {},
   "outputs": [],
   "source": []
  }
 ],
 "metadata": {
  "kernelspec": {
   "display_name": ".venv",
   "language": "python",
   "name": "python3"
  },
  "language_info": {
   "codemirror_mode": {
    "name": "ipython",
    "version": 3
   },
   "file_extension": ".py",
   "mimetype": "text/x-python",
   "name": "python",
   "nbconvert_exporter": "python",
   "pygments_lexer": "ipython3",
   "version": "3.10.12"
  }
 },
 "nbformat": 4,
 "nbformat_minor": 2
}
