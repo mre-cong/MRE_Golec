{
 "cells": [
  {
   "cell_type": "code",
   "execution_count": null,
   "metadata": {},
   "outputs": [
    {
     "name": "stdout",
     "output_type": "stream",
     "text": [
      "['$\\\\Phi = 3\\\\%$', '$\\\\Phi = 4\\\\%$', '$\\\\Phi = 6\\\\%$']\n"
     ]
    }
   ],
   "source": [
    "#2024-12-11 David Marchfield. combining the effective modulus vs field results of multiple simulations to make a single figure\n",
    "import matplotlib\n",
    "import matplotlib.pyplot as plt\n",
    "import numpy as np\n",
    "import mre.analyze\n",
    "import mre.initialize\n",
    "\n",
    "mu0 = 4*np.pi*1e-7\n",
    "\n",
    "def read_csv(sim_dir):\n",
    "    \"\"\"read in the effective modulus vs field dataset\"\"\"\n",
    "    #read\n",
    "    fname = sim_dir + 'figures/energy/modulus_v_field_data.csv'\n",
    "    Bext_series,effective_modulus,effective_modulus_uncertainty,secondary_effective_modulus,secondary_uncertainty = np.loadtxt(fname,delimiter=',',skiprows=1,unpack=True)\n",
    "    # Bext_series = 0\n",
    "    # effective_modulus = 0\n",
    "    return Bext_series, effective_modulus, effective_modulus_uncertainty, secondary_effective_modulus, secondary_uncertainty\n",
    "\n",
    "def make_composite_figure(sim_dirs,tags,output_dir='/mnt/c/Users/bagaw/Desktop/dissertation_figures/'):\n",
    "    \"\"\"given the list of simulation directories, make the composite plot\"\"\"\n",
    "    marker_styles = ['o','s','d','v','x','^']\n",
    "    fig, ax = plt.subplots(layout='constrained')\n",
    "    default_width,default_height = fig.get_size_inches()\n",
    "    fig.set_size_inches(2*default_width,2*default_height)\n",
    "    fig.set_dpi(200)\n",
    "    count = 0\n",
    "    for tag, sim_dir in zip(tags,sim_dirs):\n",
    "        Bext_series, effective_modulus, effective_modulus_uncertainty, secondary_effective_modulus, secondary_uncertainty = read_csv(sim_dir)\n",
    "        # print(f'B:{Bext_series}',f'Mod:{effective_modulus}',f'Uncertainty:{effective_modulus_uncertainty}')\n",
    "        ax.errorbar(Bext_series,effective_modulus,effective_modulus_uncertainty,marker=marker_styles[int(np.mod(count,len(marker_styles)))],label=tag)\n",
    "        count += 1\n",
    "    ax.set_xlabel('B (mT)')\n",
    "    ax.set_ylabel('Modulus (kPa)')\n",
    "    mre.analyze.format_figure(ax,legend_loc=\"upper left\")\n",
    "    savename = output_dir + 'composite_effective_modulus.png'\n",
    "    plt.savefig(savename)\n",
    "    plt.close()\n",
    "\n",
    "sim_dirs = []\n",
    "tags = []\n",
    "base_dir = '/mnt/c/Users/bagaw/Desktop/MRE/two_particle/'\n",
    "sim_dirs.append(base_dir+\"2024-11-19_2_particle_field_dependent_modulus_strain_simple_shearing_direction('z', 'x')_order_5_E_9.e+03_nu_0.47_Bext_angles_0.0_0.0_regular_vol_frac_3.e-2_stepsize_5.e-3/\")\n",
    "tags.append(r\"$\\Phi = 3\\%$\")\n",
    "sim_dirs.append(base_dir+\"2024-11-19_2_particle_field_dependent_modulus_strain_simple_shearing_direction('z', 'x')_order_5_E_9.e+03_nu_0.47_Bext_angles_0.0_0.0_regular_vol_frac_4.e-2_stepsize_5.e-3/\")\n",
    "tags.append(r\"$\\Phi = 4\\%$\")\n",
    "sim_dirs.append(base_dir+\"2024-11-26_2_particle_field_dependent_modulus_strain_simple_shearing_direction('z', 'x')_order_5_E_9.e+03_nu_0.47_Bext_angles_0.0_0.0_regular_vol_frac_6.e-2_stepsize_5.e-3/\")\n",
    "tags.append(r\"$\\Phi = 6\\%$\")\n",
    "# print(tags)\n",
    "\n",
    "make_composite_figure(sim_dirs,tags)\n"
   ]
  },
  {
   "cell_type": "code",
   "execution_count": null,
   "metadata": {},
   "outputs": [],
   "source": []
  }
 ],
 "metadata": {
  "kernelspec": {
   "display_name": ".venv",
   "language": "python",
   "name": "python3"
  },
  "language_info": {
   "codemirror_mode": {
    "name": "ipython",
    "version": 3
   },
   "file_extension": ".py",
   "mimetype": "text/x-python",
   "name": "python",
   "nbconvert_exporter": "python",
   "pygments_lexer": "ipython3",
   "version": "3.10.12"
  }
 },
 "nbformat": 4,
 "nbformat_minor": 2
}
